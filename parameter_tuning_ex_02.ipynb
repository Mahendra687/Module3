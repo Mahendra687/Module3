{
 "cells": [
  {
   "cell_type": "markdown",
   "id": "840adb76",
   "metadata": {},
   "source": [
    "# 📝 Exercise M3.01\n",
    "\n",
    "The goal is to write an exhaustive search to find the best parameters\n",
    "combination maximizing the model generalization performance.\n",
    "\n",
    "Here we use a small subset of the Adult Census dataset to make the code\n",
    "faster to execute. Once your code works on the small subset, try to\n",
    "change `train_size` to a larger value (e.g. 0.8 for 80% instead of\n",
    "20%)."
   ]
  },
  {
   "cell_type": "code",
   "execution_count": 1,
   "id": "c26fa037",
   "metadata": {},
   "outputs": [],
   "source": [
    "import pandas as pd\n",
    "\n",
    "from sklearn.model_selection import train_test_split\n",
    "\n",
    "adult_census = pd.read_csv(\"../datasets/adult-census.csv\")\n",
    "\n",
    "target_name = \"class\"\n",
    "target = adult_census[target_name]\n",
    "data = adult_census.drop(columns=[target_name, \"education-num\"])\n",
    "\n",
    "data_train, data_test, target_train, target_test = train_test_split(\n",
    "    data, target, train_size=0.8, random_state=42)"
   ]
  },
  {
   "cell_type": "code",
   "execution_count": 2,
   "id": "f45d0078",
   "metadata": {},
   "outputs": [],
   "source": [
    "from sklearn.compose import ColumnTransformer\n",
    "from sklearn.compose import make_column_selector as selector\n",
    "from sklearn.preprocessing import OrdinalEncoder\n",
    "\n",
    "categorical_preprocessor = OrdinalEncoder(handle_unknown=\"use_encoded_value\",\n",
    "                                          unknown_value=-1)\n",
    "preprocessor = ColumnTransformer(\n",
    "    [('cat_preprocessor', categorical_preprocessor,\n",
    "      selector(dtype_include=object))],\n",
    "    remainder='passthrough', sparse_threshold=0)\n",
    "\n",
    "from sklearn.ensemble import HistGradientBoostingClassifier\n",
    "from sklearn.pipeline import Pipeline\n",
    "\n",
    "model = Pipeline([\n",
    "    (\"preprocessor\", preprocessor),\n",
    "    (\"classifier\", HistGradientBoostingClassifier(random_state=42))\n",
    "])"
   ]
  },
  {
   "cell_type": "markdown",
   "id": "65d1291d",
   "metadata": {},
   "source": [
    "\n",
    "Use the previously defined model (called `model`) and using two nested `for`\n",
    "loops, make a search of the best combinations of the `learning_rate` and\n",
    "`max_leaf_nodes` parameters. In this regard, you will need to train and test\n",
    "the model by setting the parameters. The evaluation of the model should be\n",
    "performed using `cross_val_score` on the training set. We will use the\n",
    "following parameters search:\n",
    "- `learning_rate` for the values 0.01, 0.1, 1 and 10. This parameter controls\n",
    "  the ability of a new tree to correct the error of the previous sequence of\n",
    "  trees\n",
    "- `max_leaf_nodes` for the values 3, 10, 30. This parameter controls the\n",
    "  depth of each tree."
   ]
  },
  {
   "cell_type": "code",
   "execution_count": 3,
   "id": "0a0ebd3d",
   "metadata": {},
   "outputs": [
    {
     "name": "stdout",
     "output_type": "stream",
     "text": [
      "memory\n",
      "steps\n",
      "verbose\n",
      "preprocessor\n",
      "classifier\n",
      "preprocessor__n_jobs\n",
      "preprocessor__remainder\n",
      "preprocessor__sparse_threshold\n",
      "preprocessor__transformer_weights\n",
      "preprocessor__transformers\n",
      "preprocessor__verbose\n",
      "preprocessor__verbose_feature_names_out\n",
      "preprocessor__cat_preprocessor\n",
      "preprocessor__cat_preprocessor__categories\n",
      "preprocessor__cat_preprocessor__dtype\n",
      "preprocessor__cat_preprocessor__handle_unknown\n",
      "preprocessor__cat_preprocessor__unknown_value\n",
      "classifier__categorical_features\n",
      "classifier__early_stopping\n",
      "classifier__l2_regularization\n",
      "classifier__learning_rate\n",
      "classifier__loss\n",
      "classifier__max_bins\n",
      "classifier__max_depth\n",
      "classifier__max_iter\n",
      "classifier__max_leaf_nodes\n",
      "classifier__min_samples_leaf\n",
      "classifier__monotonic_cst\n",
      "classifier__n_iter_no_change\n",
      "classifier__random_state\n",
      "classifier__scoring\n",
      "classifier__tol\n",
      "classifier__validation_fraction\n",
      "classifier__verbose\n",
      "classifier__warm_start\n"
     ]
    }
   ],
   "source": [
    "for parameter in model.get_params():\n",
    "    print(parameter)"
   ]
  },
  {
   "cell_type": "code",
   "execution_count": 7,
   "id": "00b5d0f9",
   "metadata": {},
   "outputs": [
    {
     "data": {
      "text/plain": [
       "31"
      ]
     },
     "execution_count": 7,
     "metadata": {},
     "output_type": "execute_result"
    }
   ],
   "source": [
    "model.get_params()['classifier__max_leaf_nodes']"
   ]
  },
  {
   "cell_type": "code",
   "execution_count": 8,
   "id": "dee5b581",
   "metadata": {},
   "outputs": [
    {
     "data": {
      "text/plain": [
       "0.1"
      ]
     },
     "execution_count": 8,
     "metadata": {},
     "output_type": "execute_result"
    }
   ],
   "source": [
    "model.get_params()[\"classifier__learning_rate\"]"
   ]
  },
  {
   "cell_type": "code",
   "execution_count": 4,
   "id": "4c75bea3",
   "metadata": {},
   "outputs": [
    {
     "name": "stdout",
     "output_type": "stream",
     "text": [
      "score: 0.799\n",
      "Found new best model with score 0.799!\n",
      "with learning_rate = 0.01 and max_leaf =3\n",
      "score: 0.820\n",
      "Found new best model with score 0.820!\n",
      "with learning_rate = 0.01 and max_leaf =10\n",
      "score: 0.847\n",
      "Found new best model with score 0.847!\n",
      "with learning_rate = 0.01 and max_leaf =30\n",
      "score: 0.857\n",
      "Found new best model with score 0.857!\n",
      "with learning_rate = 0.1 and max_leaf =3\n",
      "score: 0.869\n",
      "Found new best model with score 0.869!\n",
      "with learning_rate = 0.1 and max_leaf =10\n",
      "score: 0.872\n",
      "Found new best model with score 0.872!\n",
      "with learning_rate = 0.1 and max_leaf =30\n",
      "score: 0.868\n",
      "score: 0.861\n",
      "score: 0.859\n",
      "score: 0.281\n",
      "score: 0.436\n",
      "score: 0.480\n",
      "The best accuracy obtained is 0.872\n",
      "The best parameters found are:\n",
      " {'learning-rate': 0.1, 'max leaf nodes': 30}\n"
     ]
    }
   ],
   "source": [
    "# Write your code here.\n",
    "from sklearn.model_selection import cross_validate\n",
    "best_score = 0\n",
    "best_params = {}\n",
    "for learning_rate in [0.01,0.1,1,10]:\n",
    "    for max_leaf in [3,10,30]:\n",
    "        model.set_params(classifier__learning_rate = learning_rate,classifier__max_leaf_nodes = max_leaf)\n",
    "        cv_results = cross_validate(model, data, target, cv=2) #without trainsets\n",
    "        scores = cv_results[\"test_score\"]\n",
    "        mean_score = scores.mean()\n",
    "        print(f\"score: {mean_score:.3f}\")\n",
    "        if mean_score > best_score:\n",
    "            best_score = mean_score\n",
    "            best_params = {'learning-rate': learning_rate, 'max leaf nodes': max_leaf}\n",
    "            print(f\"Found new best model with score {best_score:.3f}!\\n\"\n",
    "                 f\"with learning_rate = {learning_rate} and max_leaf ={max_leaf}\")\n",
    "\n",
    "print(f\"The best accuracy obtained is {best_score:.3f}\")\n",
    "print(f\"The best parameters found are:\\n {best_params}\")"
   ]
  },
  {
   "cell_type": "markdown",
   "id": "f341e21e",
   "metadata": {},
   "source": [
    "\n",
    "Now use the test set to score the model using the best parameters\n",
    "that we found using cross-validation in the training set."
   ]
  },
  {
   "cell_type": "code",
   "execution_count": 6,
   "id": "d0b42a76",
   "metadata": {},
   "outputs": [
    {
     "name": "stdout",
     "output_type": "stream",
     "text": [
      "score: 0.798\n",
      "Found new best model with score 0.798!\n",
      "with learning_rate = 0.01 and max_leaf =3\n",
      "score: 0.818\n",
      "Found new best model with score 0.818!\n",
      "with learning_rate = 0.01 and max_leaf =10\n",
      "score: 0.847\n",
      "Found new best model with score 0.847!\n",
      "with learning_rate = 0.01 and max_leaf =30\n",
      "score: 0.853\n",
      "Found new best model with score 0.853!\n",
      "with learning_rate = 0.1 and max_leaf =3\n",
      "score: 0.867\n",
      "Found new best model with score 0.867!\n",
      "with learning_rate = 0.1 and max_leaf =10\n",
      "score: 0.870\n",
      "Found new best model with score 0.870!\n",
      "with learning_rate = 0.1 and max_leaf =30\n",
      "score: 0.864\n",
      "score: 0.860\n",
      "score: 0.853\n",
      "score: 0.282\n",
      "score: 0.528\n",
      "score: 0.373\n",
      "The best accuracy obtained is 0.870\n",
      "The best parameters found are:\n",
      " {'learning-rate': 0.1, 'max leaf nodes': 30}\n"
     ]
    }
   ],
   "source": [
    "# Write your code here.\n",
    "from sklearn.model_selection import cross_validate\n",
    "best_score = 0\n",
    "best_params = {}\n",
    "for learning_rate in [0.01,0.1,1,10]:\n",
    "    for max_leaf in [3,10,30]:\n",
    "        model.set_params(classifier__learning_rate = learning_rate,classifier__max_leaf_nodes = max_leaf)\n",
    "        cv_results = cross_validate(model, data_train, target_train, cv=2) #with train sets\n",
    "        scores = cv_results[\"test_score\"]\n",
    "        mean_score = scores.mean()\n",
    "        print(f\"score: {mean_score:.3f}\")\n",
    "        if mean_score > best_score:\n",
    "            best_score = mean_score\n",
    "            best_params = {'learning-rate': learning_rate, 'max leaf nodes': max_leaf}\n",
    "            print(f\"Found new best model with score {best_score:.3f}!\\n\"\n",
    "                 f\"with learning_rate = {learning_rate} and max_leaf ={max_leaf}\")\n",
    "\n",
    "print(f\"The best accuracy obtained is {best_score:.3f}\")\n",
    "print(f\"The best parameters found are:\\n {best_params}\")"
   ]
  },
  {
   "cell_type": "code",
   "execution_count": 7,
   "id": "1772ddb2",
   "metadata": {},
   "outputs": [
    {
     "data": {
      "text/plain": [
       "[(0.01, 3),\n",
       " (0.01, 10),\n",
       " (0.01, 30),\n",
       " (0.1, 3),\n",
       " (0.1, 10),\n",
       " (0.1, 30),\n",
       " (1, 3),\n",
       " (1, 10),\n",
       " (1, 30),\n",
       " (10, 3),\n",
       " (10, 10),\n",
       " (10, 30)]"
      ]
     },
     "execution_count": 7,
     "metadata": {},
     "output_type": "execute_result"
    }
   ],
   "source": [
    "# Alternative code..\n",
    "import itertools\n",
    "\n",
    "learning_rate = [0.01,0.1,1,10]\n",
    "max_leaf = [3,10,30]\n",
    "\n",
    "\n",
    "hyper_paramcomb = list(itertools.product(learning_rate, max_leaf))\n",
    "hyper_paramcomb"
   ]
  },
  {
   "cell_type": "code",
   "execution_count": 9,
   "id": "9e32c7b2",
   "metadata": {},
   "outputs": [
    {
     "data": {
      "text/plain": [
       "[(0.01, 3),\n",
       " (0.01, 10),\n",
       " (0.01, 30),\n",
       " (0.1, 3),\n",
       " (0.1, 10),\n",
       " (0.1, 30),\n",
       " (1, 3),\n",
       " (1, 10),\n",
       " (1, 30),\n",
       " (10, 3),\n",
       " (10, 10),\n",
       " (10, 30)]"
      ]
     },
     "execution_count": 9,
     "metadata": {},
     "output_type": "execute_result"
    }
   ],
   "source": [
    "for lr, mln in hyper_paramcomb:\n",
    "    model.set_params(\n",
    "         classifier__learning_rate=lr, \n",
    "        classifier__max_leaf_nodes=mln)\n",
    "    \n",
    "hyper_paramcomb = list((lr,mln)\n",
    "                  for lr in learning_rate\n",
    "                  for mln in max_leaf)\n",
    "hyper_paramcomb"
   ]
  },
  {
   "cell_type": "markdown",
   "id": "ec185d2d",
   "metadata": {},
   "source": [
    "\n",
    "Done"
   ]
  }
 ],
 "metadata": {
  "jupytext": {
   "encoding": "# -*- coding: utf-8 -*-",
   "main_language": "python"
  },
  "kernelspec": {
   "display_name": "Python 3 (ipykernel)",
   "language": "python",
   "name": "python3"
  },
  "language_info": {
   "codemirror_mode": {
    "name": "ipython",
    "version": 3
   },
   "file_extension": ".py",
   "mimetype": "text/x-python",
   "name": "python",
   "nbconvert_exporter": "python",
   "pygments_lexer": "ipython3",
   "version": "3.9.10"
  },
  "nbreset": "https://github.com/INRIA/scikit-learn-mooc/raw/main/notebooks/parameter_tuning_ex_02.ipynb"
 },
 "nbformat": 4,
 "nbformat_minor": 5
}
