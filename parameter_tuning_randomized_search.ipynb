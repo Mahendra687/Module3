{
 "cells": [
  {
   "cell_type": "markdown",
   "id": "fb1af2d4",
   "metadata": {},
   "source": [
    "# Hyperparameter tuning by randomized-search\n",
    "\n",
    "In the previous notebook, we showed how to use a grid-search approach to\n",
    "search for the best hyperparameters maximizing the generalization performance\n",
    "of a predictive model.\n",
    "\n",
    "However, a grid-search approach has limitations. It does not scale when\n",
    "the number of parameters to tune is increasing. Also, the grid will impose\n",
    "a regularity during the search which might be problematic.\n",
    "\n",
    "In this notebook, we will present another method to tune hyperparameters\n",
    "called randomized search."
   ]
  },
  {
   "cell_type": "markdown",
   "id": "a193f5e9",
   "metadata": {},
   "source": [
    "## Our predictive model\n",
    "\n",
    "Let us reload the dataset as we did previously:"
   ]
  },
  {
   "cell_type": "code",
   "execution_count": 1,
   "id": "2821972a",
   "metadata": {},
   "outputs": [],
   "source": [
    "from sklearn import set_config\n",
    "\n",
    "set_config(display=\"diagram\")"
   ]
  },
  {
   "cell_type": "code",
   "execution_count": 2,
   "id": "12b947e8",
   "metadata": {},
   "outputs": [],
   "source": [
    "import pandas as pd\n",
    "\n",
    "adult_census = pd.read_csv(\"../datasets/adult-census.csv\")"
   ]
  },
  {
   "cell_type": "markdown",
   "id": "efecee8c",
   "metadata": {},
   "source": [
    "We extract the column containing the target."
   ]
  },
  {
   "cell_type": "code",
   "execution_count": 3,
   "id": "cec036ea",
   "metadata": {},
   "outputs": [],
   "source": [
    "target_name = \"class\"\n",
    "target = adult_census[target_name]\n",
    "target"
   ]
  },
  {
   "cell_type": "markdown",
   "id": "b04b0a6f",
   "metadata": {},
   "source": [
    "We drop from our data the target and the `\"education-num\"` column which\n",
    "duplicates the information with `\"education\"` columns."
   ]
  },
  {
   "cell_type": "code",
   "execution_count": 4,
   "id": "f6718859",
   "metadata": {},
   "outputs": [
    {
     "data": {
      "text/html": [
       "<div>\n",
       "<style scoped>\n",
       "    .dataframe tbody tr th:only-of-type {\n",
       "        vertical-align: middle;\n",
       "    }\n",
       "\n",
       "    .dataframe tbody tr th {\n",
       "        vertical-align: top;\n",
       "    }\n",
       "\n",
       "    .dataframe thead th {\n",
       "        text-align: right;\n",
       "    }\n",
       "</style>\n",
       "<table border=\"1\" class=\"dataframe\">\n",
       "  <thead>\n",
       "    <tr style=\"text-align: right;\">\n",
       "      <th></th>\n",
       "      <th>age</th>\n",
       "      <th>workclass</th>\n",
       "      <th>education</th>\n",
       "      <th>marital-status</th>\n",
       "      <th>occupation</th>\n",
       "      <th>relationship</th>\n",
       "      <th>race</th>\n",
       "      <th>sex</th>\n",
       "      <th>capital-gain</th>\n",
       "      <th>capital-loss</th>\n",
       "      <th>hours-per-week</th>\n",
       "      <th>native-country</th>\n",
       "    </tr>\n",
       "  </thead>\n",
       "  <tbody>\n",
       "    <tr>\n",
       "      <th>0</th>\n",
       "      <td>25</td>\n",
       "      <td>Private</td>\n",
       "      <td>11th</td>\n",
       "      <td>Never-married</td>\n",
       "      <td>Machine-op-inspct</td>\n",
       "      <td>Own-child</td>\n",
       "      <td>Black</td>\n",
       "      <td>Male</td>\n",
       "      <td>0</td>\n",
       "      <td>0</td>\n",
       "      <td>40</td>\n",
       "      <td>United-States</td>\n",
       "    </tr>\n",
       "    <tr>\n",
       "      <th>1</th>\n",
       "      <td>38</td>\n",
       "      <td>Private</td>\n",
       "      <td>HS-grad</td>\n",
       "      <td>Married-civ-spouse</td>\n",
       "      <td>Farming-fishing</td>\n",
       "      <td>Husband</td>\n",
       "      <td>White</td>\n",
       "      <td>Male</td>\n",
       "      <td>0</td>\n",
       "      <td>0</td>\n",
       "      <td>50</td>\n",
       "      <td>United-States</td>\n",
       "    </tr>\n",
       "    <tr>\n",
       "      <th>2</th>\n",
       "      <td>28</td>\n",
       "      <td>Local-gov</td>\n",
       "      <td>Assoc-acdm</td>\n",
       "      <td>Married-civ-spouse</td>\n",
       "      <td>Protective-serv</td>\n",
       "      <td>Husband</td>\n",
       "      <td>White</td>\n",
       "      <td>Male</td>\n",
       "      <td>0</td>\n",
       "      <td>0</td>\n",
       "      <td>40</td>\n",
       "      <td>United-States</td>\n",
       "    </tr>\n",
       "    <tr>\n",
       "      <th>3</th>\n",
       "      <td>44</td>\n",
       "      <td>Private</td>\n",
       "      <td>Some-college</td>\n",
       "      <td>Married-civ-spouse</td>\n",
       "      <td>Machine-op-inspct</td>\n",
       "      <td>Husband</td>\n",
       "      <td>Black</td>\n",
       "      <td>Male</td>\n",
       "      <td>7688</td>\n",
       "      <td>0</td>\n",
       "      <td>40</td>\n",
       "      <td>United-States</td>\n",
       "    </tr>\n",
       "    <tr>\n",
       "      <th>4</th>\n",
       "      <td>18</td>\n",
       "      <td>?</td>\n",
       "      <td>Some-college</td>\n",
       "      <td>Never-married</td>\n",
       "      <td>?</td>\n",
       "      <td>Own-child</td>\n",
       "      <td>White</td>\n",
       "      <td>Female</td>\n",
       "      <td>0</td>\n",
       "      <td>0</td>\n",
       "      <td>30</td>\n",
       "      <td>United-States</td>\n",
       "    </tr>\n",
       "  </tbody>\n",
       "</table>\n",
       "</div>"
      ],
      "text/plain": [
       "   age   workclass      education       marital-status          occupation  \\\n",
       "0   25     Private           11th        Never-married   Machine-op-inspct   \n",
       "1   38     Private        HS-grad   Married-civ-spouse     Farming-fishing   \n",
       "2   28   Local-gov     Assoc-acdm   Married-civ-spouse     Protective-serv   \n",
       "3   44     Private   Some-college   Married-civ-spouse   Machine-op-inspct   \n",
       "4   18           ?   Some-college        Never-married                   ?   \n",
       "\n",
       "  relationship    race      sex  capital-gain  capital-loss  hours-per-week  \\\n",
       "0    Own-child   Black     Male             0             0              40   \n",
       "1      Husband   White     Male             0             0              50   \n",
       "2      Husband   White     Male             0             0              40   \n",
       "3      Husband   Black     Male          7688             0              40   \n",
       "4    Own-child   White   Female             0             0              30   \n",
       "\n",
       "   native-country  \n",
       "0   United-States  \n",
       "1   United-States  \n",
       "2   United-States  \n",
       "3   United-States  \n",
       "4   United-States  "
      ]
     },
     "execution_count": 4,
     "metadata": {},
     "output_type": "execute_result"
    }
   ],
   "source": [
    "data = adult_census.drop(columns=[target_name, \"education-num\"])\n",
    "data.head()"
   ]
  },
  {
   "cell_type": "markdown",
   "id": "4470f05d",
   "metadata": {},
   "source": [
    "Once the dataset is loaded, we split it into a training and testing sets."
   ]
  },
  {
   "cell_type": "code",
   "execution_count": 5,
   "id": "ee69616a",
   "metadata": {},
   "outputs": [],
   "source": [
    "from sklearn.model_selection import train_test_split\n",
    "\n",
    "data_train, data_test, target_train, target_test = train_test_split(\n",
    "    data, target, random_state=42)"
   ]
  },
  {
   "cell_type": "markdown",
   "id": "6d08946e",
   "metadata": {},
   "source": [
    "We will create the same predictive pipeline as seen in the grid-search\n",
    "section."
   ]
  },
  {
   "cell_type": "code",
   "execution_count": 6,
   "id": "b7cc19c7",
   "metadata": {},
   "outputs": [],
   "source": [
    "from sklearn.compose import ColumnTransformer\n",
    "from sklearn.preprocessing import OrdinalEncoder\n",
    "from sklearn.compose import make_column_selector as selector\n",
    "\n",
    "categorical_columns_selector = selector(dtype_include=object)\n",
    "categorical_columns = categorical_columns_selector(data)\n",
    "\n",
    "categorical_preprocessor = OrdinalEncoder(handle_unknown=\"use_encoded_value\",\n",
    "                                          unknown_value=-1)\n",
    "preprocessor = ColumnTransformer([\n",
    "    ('cat_preprocessor', categorical_preprocessor, categorical_columns)],\n",
    "    remainder='passthrough', sparse_threshold=0)"
   ]
  },
  {
   "cell_type": "code",
   "execution_count": 7,
   "id": "31480e58",
   "metadata": {},
   "outputs": [
    {
     "data": {
      "text/html": [
       "<style>#sk-18c21e01-11ba-407c-afab-491056b88264 {color: black;background-color: white;}#sk-18c21e01-11ba-407c-afab-491056b88264 pre{padding: 0;}#sk-18c21e01-11ba-407c-afab-491056b88264 div.sk-toggleable {background-color: white;}#sk-18c21e01-11ba-407c-afab-491056b88264 label.sk-toggleable__label {cursor: pointer;display: block;width: 100%;margin-bottom: 0;padding: 0.3em;box-sizing: border-box;text-align: center;}#sk-18c21e01-11ba-407c-afab-491056b88264 label.sk-toggleable__label-arrow:before {content: \"▸\";float: left;margin-right: 0.25em;color: #696969;}#sk-18c21e01-11ba-407c-afab-491056b88264 label.sk-toggleable__label-arrow:hover:before {color: black;}#sk-18c21e01-11ba-407c-afab-491056b88264 div.sk-estimator:hover label.sk-toggleable__label-arrow:before {color: black;}#sk-18c21e01-11ba-407c-afab-491056b88264 div.sk-toggleable__content {max-height: 0;max-width: 0;overflow: hidden;text-align: left;background-color: #f0f8ff;}#sk-18c21e01-11ba-407c-afab-491056b88264 div.sk-toggleable__content pre {margin: 0.2em;color: black;border-radius: 0.25em;background-color: #f0f8ff;}#sk-18c21e01-11ba-407c-afab-491056b88264 input.sk-toggleable__control:checked~div.sk-toggleable__content {max-height: 200px;max-width: 100%;overflow: auto;}#sk-18c21e01-11ba-407c-afab-491056b88264 input.sk-toggleable__control:checked~label.sk-toggleable__label-arrow:before {content: \"▾\";}#sk-18c21e01-11ba-407c-afab-491056b88264 div.sk-estimator input.sk-toggleable__control:checked~label.sk-toggleable__label {background-color: #d4ebff;}#sk-18c21e01-11ba-407c-afab-491056b88264 div.sk-label input.sk-toggleable__control:checked~label.sk-toggleable__label {background-color: #d4ebff;}#sk-18c21e01-11ba-407c-afab-491056b88264 input.sk-hidden--visually {border: 0;clip: rect(1px 1px 1px 1px);clip: rect(1px, 1px, 1px, 1px);height: 1px;margin: -1px;overflow: hidden;padding: 0;position: absolute;width: 1px;}#sk-18c21e01-11ba-407c-afab-491056b88264 div.sk-estimator {font-family: monospace;background-color: #f0f8ff;border: 1px dotted black;border-radius: 0.25em;box-sizing: border-box;margin-bottom: 0.5em;}#sk-18c21e01-11ba-407c-afab-491056b88264 div.sk-estimator:hover {background-color: #d4ebff;}#sk-18c21e01-11ba-407c-afab-491056b88264 div.sk-parallel-item::after {content: \"\";width: 100%;border-bottom: 1px solid gray;flex-grow: 1;}#sk-18c21e01-11ba-407c-afab-491056b88264 div.sk-label:hover label.sk-toggleable__label {background-color: #d4ebff;}#sk-18c21e01-11ba-407c-afab-491056b88264 div.sk-serial::before {content: \"\";position: absolute;border-left: 1px solid gray;box-sizing: border-box;top: 2em;bottom: 0;left: 50%;}#sk-18c21e01-11ba-407c-afab-491056b88264 div.sk-serial {display: flex;flex-direction: column;align-items: center;background-color: white;padding-right: 0.2em;padding-left: 0.2em;}#sk-18c21e01-11ba-407c-afab-491056b88264 div.sk-item {z-index: 1;}#sk-18c21e01-11ba-407c-afab-491056b88264 div.sk-parallel {display: flex;align-items: stretch;justify-content: center;background-color: white;}#sk-18c21e01-11ba-407c-afab-491056b88264 div.sk-parallel::before {content: \"\";position: absolute;border-left: 1px solid gray;box-sizing: border-box;top: 2em;bottom: 0;left: 50%;}#sk-18c21e01-11ba-407c-afab-491056b88264 div.sk-parallel-item {display: flex;flex-direction: column;position: relative;background-color: white;}#sk-18c21e01-11ba-407c-afab-491056b88264 div.sk-parallel-item:first-child::after {align-self: flex-end;width: 50%;}#sk-18c21e01-11ba-407c-afab-491056b88264 div.sk-parallel-item:last-child::after {align-self: flex-start;width: 50%;}#sk-18c21e01-11ba-407c-afab-491056b88264 div.sk-parallel-item:only-child::after {width: 0;}#sk-18c21e01-11ba-407c-afab-491056b88264 div.sk-dashed-wrapped {border: 1px dashed gray;margin: 0 0.4em 0.5em 0.4em;box-sizing: border-box;padding-bottom: 0.4em;background-color: white;position: relative;}#sk-18c21e01-11ba-407c-afab-491056b88264 div.sk-label label {font-family: monospace;font-weight: bold;background-color: white;display: inline-block;line-height: 1.2em;}#sk-18c21e01-11ba-407c-afab-491056b88264 div.sk-label-container {position: relative;z-index: 2;text-align: center;}#sk-18c21e01-11ba-407c-afab-491056b88264 div.sk-container {/* jupyter's `normalize.less` sets `[hidden] { display: none; }` but bootstrap.min.css set `[hidden] { display: none !important; }` so we also need the `!important` here to be able to override the default hidden behavior on the sphinx rendered scikit-learn.org. See: https://github.com/scikit-learn/scikit-learn/issues/21755 */display: inline-block !important;position: relative;}#sk-18c21e01-11ba-407c-afab-491056b88264 div.sk-text-repr-fallback {display: none;}</style><div id=\"sk-18c21e01-11ba-407c-afab-491056b88264\" class=\"sk-top-container\"><div class=\"sk-text-repr-fallback\"><pre>Pipeline(steps=[(&#x27;preprocessor&#x27;,\n",
       "                 ColumnTransformer(remainder=&#x27;passthrough&#x27;, sparse_threshold=0,\n",
       "                                   transformers=[(&#x27;cat_preprocessor&#x27;,\n",
       "                                                  OrdinalEncoder(handle_unknown=&#x27;use_encoded_value&#x27;,\n",
       "                                                                 unknown_value=-1),\n",
       "                                                  [&#x27;workclass&#x27;, &#x27;education&#x27;,\n",
       "                                                   &#x27;marital-status&#x27;,\n",
       "                                                   &#x27;occupation&#x27;, &#x27;relationship&#x27;,\n",
       "                                                   &#x27;race&#x27;, &#x27;sex&#x27;,\n",
       "                                                   &#x27;native-country&#x27;])])),\n",
       "                (&#x27;classifier&#x27;,\n",
       "                 HistGradientBoostingClassifier(max_leaf_nodes=4,\n",
       "                                                random_state=42))])</pre><b>Please rerun this cell to show the HTML repr or trust the notebook.</b></div><div class=\"sk-container\" hidden><div class=\"sk-item sk-dashed-wrapped\"><div class=\"sk-label-container\"><div class=\"sk-label sk-toggleable\"><input class=\"sk-toggleable__control sk-hidden--visually\" id=\"1c1f4f5f-c50c-410a-9102-bef3bb57c940\" type=\"checkbox\" ><label for=\"1c1f4f5f-c50c-410a-9102-bef3bb57c940\" class=\"sk-toggleable__label sk-toggleable__label-arrow\">Pipeline</label><div class=\"sk-toggleable__content\"><pre>Pipeline(steps=[(&#x27;preprocessor&#x27;,\n",
       "                 ColumnTransformer(remainder=&#x27;passthrough&#x27;, sparse_threshold=0,\n",
       "                                   transformers=[(&#x27;cat_preprocessor&#x27;,\n",
       "                                                  OrdinalEncoder(handle_unknown=&#x27;use_encoded_value&#x27;,\n",
       "                                                                 unknown_value=-1),\n",
       "                                                  [&#x27;workclass&#x27;, &#x27;education&#x27;,\n",
       "                                                   &#x27;marital-status&#x27;,\n",
       "                                                   &#x27;occupation&#x27;, &#x27;relationship&#x27;,\n",
       "                                                   &#x27;race&#x27;, &#x27;sex&#x27;,\n",
       "                                                   &#x27;native-country&#x27;])])),\n",
       "                (&#x27;classifier&#x27;,\n",
       "                 HistGradientBoostingClassifier(max_leaf_nodes=4,\n",
       "                                                random_state=42))])</pre></div></div></div><div class=\"sk-serial\"><div class=\"sk-item sk-dashed-wrapped\"><div class=\"sk-label-container\"><div class=\"sk-label sk-toggleable\"><input class=\"sk-toggleable__control sk-hidden--visually\" id=\"689875e0-cc4f-4f9b-b565-927d65c64122\" type=\"checkbox\" ><label for=\"689875e0-cc4f-4f9b-b565-927d65c64122\" class=\"sk-toggleable__label sk-toggleable__label-arrow\">preprocessor: ColumnTransformer</label><div class=\"sk-toggleable__content\"><pre>ColumnTransformer(remainder=&#x27;passthrough&#x27;, sparse_threshold=0,\n",
       "                  transformers=[(&#x27;cat_preprocessor&#x27;,\n",
       "                                 OrdinalEncoder(handle_unknown=&#x27;use_encoded_value&#x27;,\n",
       "                                                unknown_value=-1),\n",
       "                                 [&#x27;workclass&#x27;, &#x27;education&#x27;, &#x27;marital-status&#x27;,\n",
       "                                  &#x27;occupation&#x27;, &#x27;relationship&#x27;, &#x27;race&#x27;, &#x27;sex&#x27;,\n",
       "                                  &#x27;native-country&#x27;])])</pre></div></div></div><div class=\"sk-parallel\"><div class=\"sk-parallel-item\"><div class=\"sk-item\"><div class=\"sk-label-container\"><div class=\"sk-label sk-toggleable\"><input class=\"sk-toggleable__control sk-hidden--visually\" id=\"0fa15aed-00ce-4697-bdfd-bcbafcfd9253\" type=\"checkbox\" ><label for=\"0fa15aed-00ce-4697-bdfd-bcbafcfd9253\" class=\"sk-toggleable__label sk-toggleable__label-arrow\">cat_preprocessor</label><div class=\"sk-toggleable__content\"><pre>[&#x27;workclass&#x27;, &#x27;education&#x27;, &#x27;marital-status&#x27;, &#x27;occupation&#x27;, &#x27;relationship&#x27;, &#x27;race&#x27;, &#x27;sex&#x27;, &#x27;native-country&#x27;]</pre></div></div></div><div class=\"sk-serial\"><div class=\"sk-item\"><div class=\"sk-estimator sk-toggleable\"><input class=\"sk-toggleable__control sk-hidden--visually\" id=\"4002ad41-3954-41f9-a792-b573274c03c5\" type=\"checkbox\" ><label for=\"4002ad41-3954-41f9-a792-b573274c03c5\" class=\"sk-toggleable__label sk-toggleable__label-arrow\">OrdinalEncoder</label><div class=\"sk-toggleable__content\"><pre>OrdinalEncoder(handle_unknown=&#x27;use_encoded_value&#x27;, unknown_value=-1)</pre></div></div></div></div></div></div><div class=\"sk-parallel-item\"><div class=\"sk-item\"><div class=\"sk-label-container\"><div class=\"sk-label sk-toggleable\"><input class=\"sk-toggleable__control sk-hidden--visually\" id=\"747dfec4-5a0d-42d7-84d9-9eea547edc37\" type=\"checkbox\" ><label for=\"747dfec4-5a0d-42d7-84d9-9eea547edc37\" class=\"sk-toggleable__label sk-toggleable__label-arrow\">remainder</label><div class=\"sk-toggleable__content\"><pre></pre></div></div></div><div class=\"sk-serial\"><div class=\"sk-item\"><div class=\"sk-estimator sk-toggleable\"><input class=\"sk-toggleable__control sk-hidden--visually\" id=\"6c1001df-f241-45ee-ac2f-437c0c5d9b24\" type=\"checkbox\" ><label for=\"6c1001df-f241-45ee-ac2f-437c0c5d9b24\" class=\"sk-toggleable__label sk-toggleable__label-arrow\">passthrough</label><div class=\"sk-toggleable__content\"><pre>passthrough</pre></div></div></div></div></div></div></div></div><div class=\"sk-item\"><div class=\"sk-estimator sk-toggleable\"><input class=\"sk-toggleable__control sk-hidden--visually\" id=\"ea2e173c-f57c-41ea-a609-27d64e771e2a\" type=\"checkbox\" ><label for=\"ea2e173c-f57c-41ea-a609-27d64e771e2a\" class=\"sk-toggleable__label sk-toggleable__label-arrow\">HistGradientBoostingClassifier</label><div class=\"sk-toggleable__content\"><pre>HistGradientBoostingClassifier(max_leaf_nodes=4, random_state=42)</pre></div></div></div></div></div></div></div>"
      ],
      "text/plain": [
       "Pipeline(steps=[('preprocessor',\n",
       "                 ColumnTransformer(remainder='passthrough', sparse_threshold=0,\n",
       "                                   transformers=[('cat_preprocessor',\n",
       "                                                  OrdinalEncoder(handle_unknown='use_encoded_value',\n",
       "                                                                 unknown_value=-1),\n",
       "                                                  ['workclass', 'education',\n",
       "                                                   'marital-status',\n",
       "                                                   'occupation', 'relationship',\n",
       "                                                   'race', 'sex',\n",
       "                                                   'native-country'])])),\n",
       "                ('classifier',\n",
       "                 HistGradientBoostingClassifier(max_leaf_nodes=4,\n",
       "                                                random_state=42))])"
      ]
     },
     "execution_count": 7,
     "metadata": {},
     "output_type": "execute_result"
    }
   ],
   "source": [
    "from sklearn.ensemble import HistGradientBoostingClassifier\n",
    "from sklearn.pipeline import Pipeline\n",
    "\n",
    "model = Pipeline([\n",
    "    (\"preprocessor\", preprocessor),\n",
    "    (\"classifier\", HistGradientBoostingClassifier(random_state=42, max_leaf_nodes=4)),\n",
    "])\n",
    "\n",
    "model"
   ]
  },
  {
   "cell_type": "markdown",
   "id": "f330fb52",
   "metadata": {},
   "source": [
    "## Tuning using a randomized-search\n",
    "\n",
    "With the `GridSearchCV` estimator, the parameters need to be specified\n",
    "explicitly. We already mentioned that exploring a large number of values for\n",
    "different parameters will be quickly untractable.\n",
    "\n",
    "Instead, we can randomly generate the parameter candidates. Indeed,\n",
    "such approach avoids the regularity of the grid. Hence, adding more\n",
    "evaluations can increase the resolution in each direction. This is the\n",
    "case in the frequent situation where the choice of some hyperparameters\n",
    "is not very important, as for hyperparameter 2 in the figure below.\n",
    "\n",
    "![Randomized vs grid search](../figures/grid_vs_random_search.svg)\n",
    "\n",
    "Indeed, the number of evaluation points need to be divided across the\n",
    "two different hyperparameters. With a grid, the danger is that the\n",
    "region of good hyperparameters fall between the line of the grid: this\n",
    "region is aligned with the grid given that hyperparameter 2 has a weak\n",
    "influence. Rather, stochastic search will sample hyperparameter 1\n",
    "independently from hyperparameter 2 and find the optimal region.\n",
    "\n",
    "The `RandomizedSearchCV` class allows for such stochastic search. It is\n",
    "used similarly to the `GridSearchCV` but the sampling distributions\n",
    "need to be specified instead of the parameter values. For instance, we\n",
    "will draw candidates using a log-uniform distribution because the parameters\n",
    "we are interested in take positive values with a natural log scaling (.1 is\n",
    "as close to 1 as 10 is).\n",
    "\n",
    "<div class=\"admonition note alert alert-info\">\n",
    "<p class=\"first admonition-title\" style=\"font-weight: bold;\">Note</p>\n",
    "<p class=\"last\">Random search (with <tt class=\"docutils literal\">RandomizedSearchCV</tt>) is typically beneficial compared\n",
    "to grid search (with <tt class=\"docutils literal\">GridSearchCV</tt>) to optimize 3 or more\n",
    "hyperparameters.</p>\n",
    "</div>\n",
    "\n",
    "We will optimize 3 other parameters in addition to the ones we\n",
    "optimized in the notebook presenting the `GridSearchCV`:\n",
    "\n",
    "* `l2_regularization`: it corresponds to the strength of the regularization;\n",
    "* `min_samples_leaf`: it corresponds to the minimum number of samples\n",
    "  required in a leaf;\n",
    "* `max_bins`: it corresponds to the maximum number of bins to construct the\n",
    "  histograms.\n",
    "\n",
    "We recall the meaning of the 2 remaining parameters:\n",
    "\n",
    "* `learning_rate`: it corresponds to the speed at which the gradient-boosting\n",
    "  will correct the residuals at each boosting iteration;\n",
    "* `max_leaf_nodes`: it corresponds to the maximum number of leaves for each\n",
    "  tree in the ensemble.\n",
    "\n",
    "<div class=\"admonition note alert alert-info\">\n",
    "<p class=\"first admonition-title\" style=\"font-weight: bold;\">Note</p>\n",
    "<p class=\"last\"><tt class=\"docutils literal\">scipy.stats.loguniform</tt> can be used to generate floating numbers. To\n",
    "generate random values for integer-valued parameters (e.g.\n",
    "<tt class=\"docutils literal\">min_samples_leaf</tt>) we can adapt is as follows:</p>\n",
    "</div>"
   ]
  },
  {
   "cell_type": "code",
   "execution_count": 9,
   "id": "06451ac0",
   "metadata": {},
   "outputs": [],
   "source": [
    "from scipy.stats import loguniform\n",
    "\n",
    "\n",
    "class loguniform_int:\n",
    "    \"\"\"Integer valued version of the log-uniform distribution\"\"\"\n",
    "    def __init__(self, a, b):\n",
    "        self._distribution = loguniform(a, b)\n",
    "\n",
    "    def rvs(self, *args, **kwargs):\n",
    "        \"\"\"Random variable sample\"\"\"\n",
    "        return self._distribution.rvs(*args, **kwargs).astype(int)"
   ]
  },
  {
   "cell_type": "markdown",
   "id": "13d9881c",
   "metadata": {},
   "source": [
    "\n",
    "Now, we can define the randomized search using the different distributions.\n",
    "Executing 10 iterations of 5-fold cross-validation for random\n",
    "parametrizations of this model on this dataset can take from 10 seconds to\n",
    "several minutes, depending on the speed of the host computer and the number\n",
    "of available processors."
   ]
  },
  {
   "cell_type": "code",
   "execution_count": 18,
   "id": "eb2a12fb",
   "metadata": {},
   "outputs": [
    {
     "name": "stdout",
     "output_type": "stream",
     "text": [
      "Fitting 5 folds for each of 10 candidates, totalling 50 fits\n",
      "CPU times: user 1min 52s, sys: 4.24 s, total: 1min 56s\n",
      "Wall time: 29.9 s\n"
     ]
    },
    {
     "data": {
      "text/html": [
       "<style>#sk-32b1a589-0754-4f53-bd99-7564704ca3f9 {color: black;background-color: white;}#sk-32b1a589-0754-4f53-bd99-7564704ca3f9 pre{padding: 0;}#sk-32b1a589-0754-4f53-bd99-7564704ca3f9 div.sk-toggleable {background-color: white;}#sk-32b1a589-0754-4f53-bd99-7564704ca3f9 label.sk-toggleable__label {cursor: pointer;display: block;width: 100%;margin-bottom: 0;padding: 0.3em;box-sizing: border-box;text-align: center;}#sk-32b1a589-0754-4f53-bd99-7564704ca3f9 label.sk-toggleable__label-arrow:before {content: \"▸\";float: left;margin-right: 0.25em;color: #696969;}#sk-32b1a589-0754-4f53-bd99-7564704ca3f9 label.sk-toggleable__label-arrow:hover:before {color: black;}#sk-32b1a589-0754-4f53-bd99-7564704ca3f9 div.sk-estimator:hover label.sk-toggleable__label-arrow:before {color: black;}#sk-32b1a589-0754-4f53-bd99-7564704ca3f9 div.sk-toggleable__content {max-height: 0;max-width: 0;overflow: hidden;text-align: left;background-color: #f0f8ff;}#sk-32b1a589-0754-4f53-bd99-7564704ca3f9 div.sk-toggleable__content pre {margin: 0.2em;color: black;border-radius: 0.25em;background-color: #f0f8ff;}#sk-32b1a589-0754-4f53-bd99-7564704ca3f9 input.sk-toggleable__control:checked~div.sk-toggleable__content {max-height: 200px;max-width: 100%;overflow: auto;}#sk-32b1a589-0754-4f53-bd99-7564704ca3f9 input.sk-toggleable__control:checked~label.sk-toggleable__label-arrow:before {content: \"▾\";}#sk-32b1a589-0754-4f53-bd99-7564704ca3f9 div.sk-estimator input.sk-toggleable__control:checked~label.sk-toggleable__label {background-color: #d4ebff;}#sk-32b1a589-0754-4f53-bd99-7564704ca3f9 div.sk-label input.sk-toggleable__control:checked~label.sk-toggleable__label {background-color: #d4ebff;}#sk-32b1a589-0754-4f53-bd99-7564704ca3f9 input.sk-hidden--visually {border: 0;clip: rect(1px 1px 1px 1px);clip: rect(1px, 1px, 1px, 1px);height: 1px;margin: -1px;overflow: hidden;padding: 0;position: absolute;width: 1px;}#sk-32b1a589-0754-4f53-bd99-7564704ca3f9 div.sk-estimator {font-family: monospace;background-color: #f0f8ff;border: 1px dotted black;border-radius: 0.25em;box-sizing: border-box;margin-bottom: 0.5em;}#sk-32b1a589-0754-4f53-bd99-7564704ca3f9 div.sk-estimator:hover {background-color: #d4ebff;}#sk-32b1a589-0754-4f53-bd99-7564704ca3f9 div.sk-parallel-item::after {content: \"\";width: 100%;border-bottom: 1px solid gray;flex-grow: 1;}#sk-32b1a589-0754-4f53-bd99-7564704ca3f9 div.sk-label:hover label.sk-toggleable__label {background-color: #d4ebff;}#sk-32b1a589-0754-4f53-bd99-7564704ca3f9 div.sk-serial::before {content: \"\";position: absolute;border-left: 1px solid gray;box-sizing: border-box;top: 2em;bottom: 0;left: 50%;}#sk-32b1a589-0754-4f53-bd99-7564704ca3f9 div.sk-serial {display: flex;flex-direction: column;align-items: center;background-color: white;padding-right: 0.2em;padding-left: 0.2em;}#sk-32b1a589-0754-4f53-bd99-7564704ca3f9 div.sk-item {z-index: 1;}#sk-32b1a589-0754-4f53-bd99-7564704ca3f9 div.sk-parallel {display: flex;align-items: stretch;justify-content: center;background-color: white;}#sk-32b1a589-0754-4f53-bd99-7564704ca3f9 div.sk-parallel::before {content: \"\";position: absolute;border-left: 1px solid gray;box-sizing: border-box;top: 2em;bottom: 0;left: 50%;}#sk-32b1a589-0754-4f53-bd99-7564704ca3f9 div.sk-parallel-item {display: flex;flex-direction: column;position: relative;background-color: white;}#sk-32b1a589-0754-4f53-bd99-7564704ca3f9 div.sk-parallel-item:first-child::after {align-self: flex-end;width: 50%;}#sk-32b1a589-0754-4f53-bd99-7564704ca3f9 div.sk-parallel-item:last-child::after {align-self: flex-start;width: 50%;}#sk-32b1a589-0754-4f53-bd99-7564704ca3f9 div.sk-parallel-item:only-child::after {width: 0;}#sk-32b1a589-0754-4f53-bd99-7564704ca3f9 div.sk-dashed-wrapped {border: 1px dashed gray;margin: 0 0.4em 0.5em 0.4em;box-sizing: border-box;padding-bottom: 0.4em;background-color: white;position: relative;}#sk-32b1a589-0754-4f53-bd99-7564704ca3f9 div.sk-label label {font-family: monospace;font-weight: bold;background-color: white;display: inline-block;line-height: 1.2em;}#sk-32b1a589-0754-4f53-bd99-7564704ca3f9 div.sk-label-container {position: relative;z-index: 2;text-align: center;}#sk-32b1a589-0754-4f53-bd99-7564704ca3f9 div.sk-container {/* jupyter's `normalize.less` sets `[hidden] { display: none; }` but bootstrap.min.css set `[hidden] { display: none !important; }` so we also need the `!important` here to be able to override the default hidden behavior on the sphinx rendered scikit-learn.org. See: https://github.com/scikit-learn/scikit-learn/issues/21755 */display: inline-block !important;position: relative;}#sk-32b1a589-0754-4f53-bd99-7564704ca3f9 div.sk-text-repr-fallback {display: none;}</style><div id=\"sk-32b1a589-0754-4f53-bd99-7564704ca3f9\" class=\"sk-top-container\"><div class=\"sk-text-repr-fallback\"><pre>RandomizedSearchCV(cv=5,\n",
       "                   estimator=Pipeline(steps=[(&#x27;preprocessor&#x27;,\n",
       "                                              ColumnTransformer(remainder=&#x27;passthrough&#x27;,\n",
       "                                                                sparse_threshold=0,\n",
       "                                                                transformers=[(&#x27;cat_preprocessor&#x27;,\n",
       "                                                                               OrdinalEncoder(handle_unknown=&#x27;use_encoded_value&#x27;,\n",
       "                                                                                              unknown_value=-1),\n",
       "                                                                               [&#x27;workclass&#x27;,\n",
       "                                                                                &#x27;education&#x27;,\n",
       "                                                                                &#x27;marital-status&#x27;,\n",
       "                                                                                &#x27;occupation&#x27;,\n",
       "                                                                                &#x27;relationship&#x27;,\n",
       "                                                                                &#x27;race&#x27;,\n",
       "                                                                                &#x27;sex&#x27;,\n",
       "                                                                                &#x27;native-country&#x27;])])),\n",
       "                                             (&#x27;classifier&#x27;,\n",
       "                                              Hi...\n",
       "                   param_distributions={&#x27;classifier__l2_regularization&#x27;: &lt;scipy.stats._distn_infrastructure.rv_frozen object at 0x7fabfa2135e0&gt;,\n",
       "                                        &#x27;classifier__learning_rate&#x27;: &lt;scipy.stats._distn_infrastructure.rv_frozen object at 0x7fabf9357430&gt;,\n",
       "                                        &#x27;classifier__max_bins&#x27;: &lt;__main__.loguniform_int object at 0x7fabf9344610&gt;,\n",
       "                                        &#x27;classifier__max_leaf_nodes&#x27;: &lt;__main__.loguniform_int object at 0x7fabf9888340&gt;,\n",
       "                                        &#x27;classifier__min_samples_leaf&#x27;: &lt;__main__.loguniform_int object at 0x7fabf9337910&gt;},\n",
       "                   verbose=1)</pre><b>Please rerun this cell to show the HTML repr or trust the notebook.</b></div><div class=\"sk-container\" hidden><div class=\"sk-item sk-dashed-wrapped\"><div class=\"sk-label-container\"><div class=\"sk-label sk-toggleable\"><input class=\"sk-toggleable__control sk-hidden--visually\" id=\"31d72995-1dc4-43fe-bb6d-d89367add69e\" type=\"checkbox\" ><label for=\"31d72995-1dc4-43fe-bb6d-d89367add69e\" class=\"sk-toggleable__label sk-toggleable__label-arrow\">RandomizedSearchCV</label><div class=\"sk-toggleable__content\"><pre>RandomizedSearchCV(cv=5,\n",
       "                   estimator=Pipeline(steps=[(&#x27;preprocessor&#x27;,\n",
       "                                              ColumnTransformer(remainder=&#x27;passthrough&#x27;,\n",
       "                                                                sparse_threshold=0,\n",
       "                                                                transformers=[(&#x27;cat_preprocessor&#x27;,\n",
       "                                                                               OrdinalEncoder(handle_unknown=&#x27;use_encoded_value&#x27;,\n",
       "                                                                                              unknown_value=-1),\n",
       "                                                                               [&#x27;workclass&#x27;,\n",
       "                                                                                &#x27;education&#x27;,\n",
       "                                                                                &#x27;marital-status&#x27;,\n",
       "                                                                                &#x27;occupation&#x27;,\n",
       "                                                                                &#x27;relationship&#x27;,\n",
       "                                                                                &#x27;race&#x27;,\n",
       "                                                                                &#x27;sex&#x27;,\n",
       "                                                                                &#x27;native-country&#x27;])])),\n",
       "                                             (&#x27;classifier&#x27;,\n",
       "                                              Hi...\n",
       "                   param_distributions={&#x27;classifier__l2_regularization&#x27;: &lt;scipy.stats._distn_infrastructure.rv_frozen object at 0x7fabfa2135e0&gt;,\n",
       "                                        &#x27;classifier__learning_rate&#x27;: &lt;scipy.stats._distn_infrastructure.rv_frozen object at 0x7fabf9357430&gt;,\n",
       "                                        &#x27;classifier__max_bins&#x27;: &lt;__main__.loguniform_int object at 0x7fabf9344610&gt;,\n",
       "                                        &#x27;classifier__max_leaf_nodes&#x27;: &lt;__main__.loguniform_int object at 0x7fabf9888340&gt;,\n",
       "                                        &#x27;classifier__min_samples_leaf&#x27;: &lt;__main__.loguniform_int object at 0x7fabf9337910&gt;},\n",
       "                   verbose=1)</pre></div></div></div><div class=\"sk-parallel\"><div class=\"sk-parallel-item\"><div class=\"sk-item\"><div class=\"sk-serial\"><div class=\"sk-item\"><div class=\"sk-serial\"><div class=\"sk-item sk-dashed-wrapped\"><div class=\"sk-label-container\"><div class=\"sk-label sk-toggleable\"><input class=\"sk-toggleable__control sk-hidden--visually\" id=\"9575c986-ba2d-431a-8ab5-ea750a83d133\" type=\"checkbox\" ><label for=\"9575c986-ba2d-431a-8ab5-ea750a83d133\" class=\"sk-toggleable__label sk-toggleable__label-arrow\">preprocessor: ColumnTransformer</label><div class=\"sk-toggleable__content\"><pre>ColumnTransformer(remainder=&#x27;passthrough&#x27;, sparse_threshold=0,\n",
       "                  transformers=[(&#x27;cat_preprocessor&#x27;,\n",
       "                                 OrdinalEncoder(handle_unknown=&#x27;use_encoded_value&#x27;,\n",
       "                                                unknown_value=-1),\n",
       "                                 [&#x27;workclass&#x27;, &#x27;education&#x27;, &#x27;marital-status&#x27;,\n",
       "                                  &#x27;occupation&#x27;, &#x27;relationship&#x27;, &#x27;race&#x27;, &#x27;sex&#x27;,\n",
       "                                  &#x27;native-country&#x27;])])</pre></div></div></div><div class=\"sk-parallel\"><div class=\"sk-parallel-item\"><div class=\"sk-item\"><div class=\"sk-label-container\"><div class=\"sk-label sk-toggleable\"><input class=\"sk-toggleable__control sk-hidden--visually\" id=\"0ef4d778-22cf-4f4f-a9fc-72ed9daa2fd0\" type=\"checkbox\" ><label for=\"0ef4d778-22cf-4f4f-a9fc-72ed9daa2fd0\" class=\"sk-toggleable__label sk-toggleable__label-arrow\">cat_preprocessor</label><div class=\"sk-toggleable__content\"><pre>[&#x27;workclass&#x27;, &#x27;education&#x27;, &#x27;marital-status&#x27;, &#x27;occupation&#x27;, &#x27;relationship&#x27;, &#x27;race&#x27;, &#x27;sex&#x27;, &#x27;native-country&#x27;]</pre></div></div></div><div class=\"sk-serial\"><div class=\"sk-item\"><div class=\"sk-estimator sk-toggleable\"><input class=\"sk-toggleable__control sk-hidden--visually\" id=\"10caf307-a0f8-49a6-8baf-c070551ed373\" type=\"checkbox\" ><label for=\"10caf307-a0f8-49a6-8baf-c070551ed373\" class=\"sk-toggleable__label sk-toggleable__label-arrow\">OrdinalEncoder</label><div class=\"sk-toggleable__content\"><pre>OrdinalEncoder(handle_unknown=&#x27;use_encoded_value&#x27;, unknown_value=-1)</pre></div></div></div></div></div></div><div class=\"sk-parallel-item\"><div class=\"sk-item\"><div class=\"sk-label-container\"><div class=\"sk-label sk-toggleable\"><input class=\"sk-toggleable__control sk-hidden--visually\" id=\"f96c3957-6812-4ce9-9bb3-f2d3e5dd7e4f\" type=\"checkbox\" ><label for=\"f96c3957-6812-4ce9-9bb3-f2d3e5dd7e4f\" class=\"sk-toggleable__label sk-toggleable__label-arrow\">remainder</label><div class=\"sk-toggleable__content\"><pre></pre></div></div></div><div class=\"sk-serial\"><div class=\"sk-item\"><div class=\"sk-estimator sk-toggleable\"><input class=\"sk-toggleable__control sk-hidden--visually\" id=\"59ada1ab-4fb1-4697-855a-c626dc651601\" type=\"checkbox\" ><label for=\"59ada1ab-4fb1-4697-855a-c626dc651601\" class=\"sk-toggleable__label sk-toggleable__label-arrow\">passthrough</label><div class=\"sk-toggleable__content\"><pre>passthrough</pre></div></div></div></div></div></div></div></div><div class=\"sk-item\"><div class=\"sk-estimator sk-toggleable\"><input class=\"sk-toggleable__control sk-hidden--visually\" id=\"b9790a8c-b21b-4460-adb7-e8f3369e4054\" type=\"checkbox\" ><label for=\"b9790a8c-b21b-4460-adb7-e8f3369e4054\" class=\"sk-toggleable__label sk-toggleable__label-arrow\">HistGradientBoostingClassifier</label><div class=\"sk-toggleable__content\"><pre>HistGradientBoostingClassifier(max_leaf_nodes=4, random_state=42)</pre></div></div></div></div></div></div></div></div></div></div></div></div>"
      ],
      "text/plain": [
       "RandomizedSearchCV(cv=5,\n",
       "                   estimator=Pipeline(steps=[('preprocessor',\n",
       "                                              ColumnTransformer(remainder='passthrough',\n",
       "                                                                sparse_threshold=0,\n",
       "                                                                transformers=[('cat_preprocessor',\n",
       "                                                                               OrdinalEncoder(handle_unknown='use_encoded_value',\n",
       "                                                                                              unknown_value=-1),\n",
       "                                                                               ['workclass',\n",
       "                                                                                'education',\n",
       "                                                                                'marital-status',\n",
       "                                                                                'occupation',\n",
       "                                                                                'relationship',\n",
       "                                                                                'race',\n",
       "                                                                                'sex',\n",
       "                                                                                'native-country'])])),\n",
       "                                             ('classifier',\n",
       "                                              Hi...\n",
       "                   param_distributions={'classifier__l2_regularization': <scipy.stats._distn_infrastructure.rv_frozen object at 0x7fabfa2135e0>,\n",
       "                                        'classifier__learning_rate': <scipy.stats._distn_infrastructure.rv_frozen object at 0x7fabf9357430>,\n",
       "                                        'classifier__max_bins': <__main__.loguniform_int object at 0x7fabf9344610>,\n",
       "                                        'classifier__max_leaf_nodes': <__main__.loguniform_int object at 0x7fabf9888340>,\n",
       "                                        'classifier__min_samples_leaf': <__main__.loguniform_int object at 0x7fabf9337910>},\n",
       "                   verbose=1)"
      ]
     },
     "execution_count": 18,
     "metadata": {},
     "output_type": "execute_result"
    }
   ],
   "source": [
    "%%time\n",
    "from sklearn.model_selection import RandomizedSearchCV\n",
    "\n",
    "param_distributions = {\n",
    "    'classifier__l2_regularization': loguniform(1e-6, 1e3),\n",
    "    'classifier__learning_rate': loguniform(0.001, 10),\n",
    "    'classifier__max_leaf_nodes': loguniform_int(2, 256),\n",
    "    'classifier__min_samples_leaf': loguniform_int(1, 100),\n",
    "    'classifier__max_bins': loguniform_int(2, 255),\n",
    "}\n",
    "\n",
    "model_random_search = RandomizedSearchCV(\n",
    "    model, param_distributions=param_distributions, n_iter=10,\n",
    "    cv=5, verbose=1,\n",
    ")\n",
    "model_random_search.fit(data_train, target_train)"
   ]
  },
  {
   "cell_type": "markdown",
   "id": "a15086b7",
   "metadata": {},
   "source": [
    "Then, we can compute the accuracy score on the test set."
   ]
  },
  {
   "cell_type": "code",
   "execution_count": 19,
   "id": "30d6d5d3",
   "metadata": {},
   "outputs": [
    {
     "name": "stdout",
     "output_type": "stream",
     "text": [
      "The test accuracy score of the best model is 0.87\n"
     ]
    }
   ],
   "source": [
    "accuracy = model_random_search.score(data_test, target_test)\n",
    "\n",
    "print(f\"The test accuracy score of the best model is \"\n",
    "      f\"{accuracy:.2f}\")"
   ]
  },
  {
   "cell_type": "code",
   "execution_count": 13,
   "id": "356c2253",
   "metadata": {},
   "outputs": [
    {
     "name": "stdout",
     "output_type": "stream",
     "text": [
      "The best parameters are:\n",
      "{'classifier__l2_regularization': 4.710483982742731e-05,\n",
      " 'classifier__learning_rate': 0.25874503023355194,\n",
      " 'classifier__max_bins': 231,\n",
      " 'classifier__max_leaf_nodes': 133,\n",
      " 'classifier__min_samples_leaf': 7}\n"
     ]
    }
   ],
   "source": [
    "from pprint import pprint\n",
    "\n",
    "print(\"The best parameters are:\")\n",
    "pprint(model_random_search.best_params_)"
   ]
  },
  {
   "cell_type": "markdown",
   "id": "651c14fd",
   "metadata": {
    "lines_to_next_cell": 2
   },
   "source": [
    "\n",
    "We can inspect the results using the attributes `cv_results` as we did\n",
    "previously."
   ]
  },
  {
   "cell_type": "code",
   "execution_count": 20,
   "id": "c8963c60",
   "metadata": {},
   "outputs": [],
   "source": [
    "def shorten_param(param_name):\n",
    "    if \"__\" in param_name:\n",
    "        return param_name.rsplit(\"__\", 1)[1]\n",
    "    return param_name"
   ]
  },
  {
   "cell_type": "code",
   "execution_count": 21,
   "id": "40a61770",
   "metadata": {},
   "outputs": [
    {
     "data": {
      "text/html": [
       "<div>\n",
       "<style scoped>\n",
       "    .dataframe tbody tr th:only-of-type {\n",
       "        vertical-align: middle;\n",
       "    }\n",
       "\n",
       "    .dataframe tbody tr th {\n",
       "        vertical-align: top;\n",
       "    }\n",
       "\n",
       "    .dataframe thead th {\n",
       "        text-align: right;\n",
       "    }\n",
       "</style>\n",
       "<table border=\"1\" class=\"dataframe\">\n",
       "  <thead>\n",
       "    <tr style=\"text-align: right;\">\n",
       "      <th></th>\n",
       "      <th>l2_regularization</th>\n",
       "      <th>learning_rate</th>\n",
       "      <th>max_leaf_nodes</th>\n",
       "      <th>min_samples_leaf</th>\n",
       "      <th>max_bins</th>\n",
       "      <th>mean_test_score</th>\n",
       "      <th>std_test_score</th>\n",
       "      <th>rank_test_score</th>\n",
       "    </tr>\n",
       "  </thead>\n",
       "  <tbody>\n",
       "    <tr>\n",
       "      <th>2</th>\n",
       "      <td>10.387147</td>\n",
       "      <td>0.018311</td>\n",
       "      <td>178</td>\n",
       "      <td>21</td>\n",
       "      <td>98</td>\n",
       "      <td>0.856597</td>\n",
       "      <td>0.002781</td>\n",
       "      <td>1</td>\n",
       "    </tr>\n",
       "    <tr>\n",
       "      <th>3</th>\n",
       "      <td>0.072097</td>\n",
       "      <td>0.120107</td>\n",
       "      <td>11</td>\n",
       "      <td>24</td>\n",
       "      <td>34</td>\n",
       "      <td>0.856242</td>\n",
       "      <td>0.002448</td>\n",
       "      <td>2</td>\n",
       "    </tr>\n",
       "    <tr>\n",
       "      <th>0</th>\n",
       "      <td>0.280663</td>\n",
       "      <td>0.732037</td>\n",
       "      <td>63</td>\n",
       "      <td>67</td>\n",
       "      <td>83</td>\n",
       "      <td>0.853649</td>\n",
       "      <td>0.001094</td>\n",
       "      <td>3</td>\n",
       "    </tr>\n",
       "    <tr>\n",
       "      <th>6</th>\n",
       "      <td>437.010023</td>\n",
       "      <td>0.066312</td>\n",
       "      <td>18</td>\n",
       "      <td>1</td>\n",
       "      <td>20</td>\n",
       "      <td>0.853321</td>\n",
       "      <td>0.002873</td>\n",
       "      <td>4</td>\n",
       "    </tr>\n",
       "    <tr>\n",
       "      <th>9</th>\n",
       "      <td>0.040911</td>\n",
       "      <td>0.5145</td>\n",
       "      <td>150</td>\n",
       "      <td>3</td>\n",
       "      <td>2</td>\n",
       "      <td>0.800633</td>\n",
       "      <td>0.003485</td>\n",
       "      <td>5</td>\n",
       "    </tr>\n",
       "    <tr>\n",
       "      <th>7</th>\n",
       "      <td>0.000127</td>\n",
       "      <td>0.005882</td>\n",
       "      <td>11</td>\n",
       "      <td>1</td>\n",
       "      <td>49</td>\n",
       "      <td>0.793098</td>\n",
       "      <td>0.004742</td>\n",
       "      <td>6</td>\n",
       "    </tr>\n",
       "    <tr>\n",
       "      <th>5</th>\n",
       "      <td>0.000208</td>\n",
       "      <td>4.389871</td>\n",
       "      <td>90</td>\n",
       "      <td>19</td>\n",
       "      <td>10</td>\n",
       "      <td>0.744342</td>\n",
       "      <td>0.023239</td>\n",
       "      <td>7</td>\n",
       "    </tr>\n",
       "    <tr>\n",
       "      <th>1</th>\n",
       "      <td>0.000125</td>\n",
       "      <td>2.895918</td>\n",
       "      <td>17</td>\n",
       "      <td>21</td>\n",
       "      <td>48</td>\n",
       "      <td>0.713850</td>\n",
       "      <td>0.026679</td>\n",
       "      <td>8</td>\n",
       "    </tr>\n",
       "    <tr>\n",
       "      <th>4</th>\n",
       "      <td>0.002159</td>\n",
       "      <td>2.146611</td>\n",
       "      <td>222</td>\n",
       "      <td>2</td>\n",
       "      <td>4</td>\n",
       "      <td>0.704104</td>\n",
       "      <td>0.011634</td>\n",
       "      <td>9</td>\n",
       "    </tr>\n",
       "    <tr>\n",
       "      <th>8</th>\n",
       "      <td>0.291394</td>\n",
       "      <td>4.365531</td>\n",
       "      <td>39</td>\n",
       "      <td>7</td>\n",
       "      <td>27</td>\n",
       "      <td>0.674290</td>\n",
       "      <td>0.049343</td>\n",
       "      <td>10</td>\n",
       "    </tr>\n",
       "  </tbody>\n",
       "</table>\n",
       "</div>"
      ],
      "text/plain": [
       "  l2_regularization learning_rate max_leaf_nodes min_samples_leaf max_bins  \\\n",
       "2         10.387147      0.018311            178               21       98   \n",
       "3          0.072097      0.120107             11               24       34   \n",
       "0          0.280663      0.732037             63               67       83   \n",
       "6        437.010023      0.066312             18                1       20   \n",
       "9          0.040911        0.5145            150                3        2   \n",
       "7          0.000127      0.005882             11                1       49   \n",
       "5          0.000208      4.389871             90               19       10   \n",
       "1          0.000125      2.895918             17               21       48   \n",
       "4          0.002159      2.146611            222                2        4   \n",
       "8          0.291394      4.365531             39                7       27   \n",
       "\n",
       "   mean_test_score  std_test_score  rank_test_score  \n",
       "2         0.856597        0.002781                1  \n",
       "3         0.856242        0.002448                2  \n",
       "0         0.853649        0.001094                3  \n",
       "6         0.853321        0.002873                4  \n",
       "9         0.800633        0.003485                5  \n",
       "7         0.793098        0.004742                6  \n",
       "5         0.744342        0.023239                7  \n",
       "1         0.713850        0.026679                8  \n",
       "4         0.704104        0.011634                9  \n",
       "8         0.674290        0.049343               10  "
      ]
     },
     "execution_count": 21,
     "metadata": {},
     "output_type": "execute_result"
    }
   ],
   "source": [
    "# get the parameter names\n",
    "column_results = [\n",
    "    f\"param_{name}\" for name in param_distributions.keys()]\n",
    "column_results += [\n",
    "    \"mean_test_score\", \"std_test_score\", \"rank_test_score\"]\n",
    "\n",
    "cv_results = pd.DataFrame(model_random_search.cv_results_)\n",
    "cv_results = cv_results[column_results].sort_values(\n",
    "    \"mean_test_score\", ascending=False)\n",
    "cv_results = cv_results.rename(shorten_param, axis=1)\n",
    "cv_results"
   ]
  },
  {
   "cell_type": "markdown",
   "id": "e703fab7",
   "metadata": {},
   "source": [
    "The best model that we found with this search seems to have a substantially better\n",
    "mean test score than the second to best model, as the difference of the mean test\n",
    "scores of both models differs by more than three times the standard deviation of the\n",
    "cross-validated test scores of the best model."
   ]
  },
  {
   "cell_type": "code",
   "execution_count": 22,
   "id": "589b87e0",
   "metadata": {},
   "outputs": [
    {
     "data": {
      "text/plain": [
       "0.00035491153274702647"
      ]
     },
     "execution_count": 22,
     "metadata": {},
     "output_type": "execute_result"
    }
   ],
   "source": [
    "cv_results = cv_results.set_index(\"rank_test_score\")\n",
    "cv_results[\"mean_test_score\"][1] - cv_results[\"mean_test_score\"][2]"
   ]
  },
  {
   "cell_type": "code",
   "execution_count": 23,
   "id": "02c3c6d9",
   "metadata": {},
   "outputs": [
    {
     "data": {
      "text/plain": [
       "0.008342666703752855"
      ]
     },
     "execution_count": 23,
     "metadata": {},
     "output_type": "execute_result"
    }
   ],
   "source": [
    "3 * cv_results[\"std_test_score\"][1]"
   ]
  },
  {
   "cell_type": "markdown",
   "id": "cab4cd5f",
   "metadata": {},
   "source": [
    "Keep in mind that tuning is limited by the number of different combinations\n",
    "of parameters that are scored by the randomized search. In fact, there might\n",
    "be other sets of parameters leading to similar or better generalization\n",
    "performances but that were not tested in the search.\n",
    "In practice, a randomized hyperparameter search is usually run with a large\n",
    "number of iterations. In order to avoid the computation cost and still make a\n",
    "decent analysis, we load the results obtained from a similar search with 200\n",
    "iterations."
   ]
  },
  {
   "cell_type": "code",
   "execution_count": null,
   "id": "6a11fc35",
   "metadata": {},
   "outputs": [],
   "source": [
    "model_random_search = RandomizedSearchCV(model, param_distributions=param_distributions, \n",
    "                                         n_iter=200,n_jobs=2, cv=5)\n",
    "model_random_search.fit(data_train, target_train)\n",
    "cv_results =  pd.DataFrame(model_random_search.cv_results_)\n",
    "cv_results.to_csv(\"../figures/randomized_search_results.csv\")"
   ]
  },
  {
   "cell_type": "code",
   "execution_count": null,
   "id": "aadfc873",
   "metadata": {},
   "outputs": [],
   "source": [
    "cv_results = pd.read_csv(\"../figures/randomized_search_results.csv\",\n",
    "                         index_col=0)\n",
    "\n",
    "(cv_results[column_results].rename(\n",
    "    shorten_param, axis=1).sort_values(\"mean_test_score\", ascending=False))"
   ]
  },
  {
   "cell_type": "markdown",
   "id": "0e8be8f6",
   "metadata": {},
   "source": [
    "In this case the top performing models have test scores with a high\n",
    "overlap between each other, meaning that indeed, the set of parameters\n",
    "leading to the best generalization performance is not unique."
   ]
  },
  {
   "cell_type": "markdown",
   "id": "266ded4d",
   "metadata": {},
   "source": [
    "\n",
    "In this notebook, we saw how a randomized search offers a valuable\n",
    "alternative to grid-search when the number of hyperparameters to tune is more\n",
    "than two. It also alleviates the regularity imposed by the grid that might be\n",
    "problematic sometimes.\n",
    "\n",
    "In the following, we will see how to use interactive plotting tools to explore\n",
    "the results of large hyperparameter search sessions and gain some\n",
    "insights on range of parameter values that lead to the highest performing\n",
    "models and how different hyperparameter are coupled or not."
   ]
  }
 ],
 "metadata": {
  "jupytext": {
   "main_language": "python"
  },
  "kernelspec": {
   "display_name": "Python 3 (ipykernel)",
   "language": "python",
   "name": "python3"
  },
  "language_info": {
   "codemirror_mode": {
    "name": "ipython",
    "version": 3
   },
   "file_extension": ".py",
   "mimetype": "text/x-python",
   "name": "python",
   "nbconvert_exporter": "python",
   "pygments_lexer": "ipython3",
   "version": "3.9.10"
  },
  "nbreset": "https://github.com/INRIA/scikit-learn-mooc/raw/main/notebooks/parameter_tuning_randomized_search.ipynb"
 },
 "nbformat": 4,
 "nbformat_minor": 5
}
